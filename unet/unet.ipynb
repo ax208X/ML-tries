{
 "cells": [
  {
   "cell_type": "code",
   "execution_count": 2,
   "metadata": {},
   "outputs": [],
   "source": [
    "import os\n",
    "from PIL import Image\n",
    "import numpy as np\n",
    "\n",
    "y_dirlist = os.listdir(\"C:/Users/aisha.xu/Downloads/tgs-salt-identification-challenge/train/masks/\")\n",
    "x_dirlist = os.listdir(\"C:/Users/aisha.xu/Downloads/tgs-salt-identification-challenge/train/images/\")\n",
    "y_train_name = []\n",
    "x_train_name = []\n",
    "for i in range(len(y_dirlist)):\n",
    "    y_string = ['C:/Users/aisha.xu/Downloads/tgs-salt-identification-challenge/train/masks/',y_dirlist[i]]\n",
    "    y_string = ''.join(y_string)\n",
    "    y_train_name.append(y_string)\n",
    "    \n",
    "    x_string = ['C:/Users/aisha.xu/Downloads/tgs-salt-identification-challenge/train/images/',x_dirlist[i]]\n",
    "    x_string = ''.join(x_string)\n",
    "    x_train_name.append(x_string)\n",
    "    \n",
    "y_data=[]\n",
    "x_data=[]\n",
    "for filename in y_train_name:\n",
    "    img = Image.open(filename)\n",
    "    img_gray = img.convert('L')\n",
    "    arr_gray = np.array(img_gray)\n",
    "    arr_gray[arr_gray > 0]=1\n",
    "    arr_gray_reshape = arr_gray.reshape(101,101,1)\n",
    "    y_data.append(arr_gray_reshape)\n",
    "\n",
    "for filename in x_train_name:\n",
    "    img = Image.open(filename)\n",
    "    img_gray = img.convert('L')\n",
    "    arr = np.array(img_gray)\n",
    "    arr_reshape = arr.reshape(101,101,1)\n",
    "    x_data.append(arr_reshape)\n",
    "\n",
    "    "
   ]
  },
  {
   "cell_type": "code",
   "execution_count": 4,
   "metadata": {},
   "outputs": [],
   "source": [
    "#centre the data\n",
    "x_data = (x_data-np.mean(x_data))/255\n",
    "y_data = np.array(y_data)\n",
    "x_train = x_data[:3000]\n",
    "x_val = x_data[3000:]\n",
    "y_train = y_data[:3000]\n",
    "y_val = y_data[3000:]\n",
    "#print(y_train.shape,type(x_train),type(y_train))"
   ]
  },
  {
   "cell_type": "code",
   "execution_count": 24,
   "metadata": {},
   "outputs": [
    {
     "name": "stderr",
     "output_type": "stream",
     "text": [
      "c:\\users\\aisha.xu\\documents\\env\\lib\\site-packages\\ipykernel_launcher.py:75: UserWarning: Update your `Model` call to the Keras 2 API: `Model(inputs=Tensor(\"in..., outputs=[<tf.Tenso...)`\n"
     ]
    }
   ],
   "source": [
    "from numpy import *\n",
    "from keras.models import *\n",
    "from keras.layers import *\n",
    "from keras.optimizers import *\n",
    "from keras import backend as keras\n",
    "from keras.callbacks import History\n",
    "\n",
    "def unet(input_size=(101,101,1)):\n",
    "    inputs = Input(shape = input_size)\n",
    "    conv1 = Conv2D(64, kernel_size=(3,3),activation = 'relu', data_format='channels_last', padding = 'same',kernel_initializer = 'he_normal')(inputs)\n",
    "    conv1 = Conv2D(64, kernel_size=(3,3),activation = 'relu', data_format='channels_last', padding = 'same',kernel_initializer = 'he_normal')(conv1)\n",
    "    #print('conv1_shape=',conv1.shape)\n",
    "    pool1 = MaxPooling2D(pool_size=(2,2),padding = 'same')(conv1)\n",
    "    #print('pool1_shape=',pool1.shape)\n",
    "    \n",
    "    conv2 = Conv2D(128,kernel_size=(3,3),activation = 'relu', data_format='channels_last', padding = 'same',kernel_initializer = 'he_normal')(pool1)\n",
    "    conv2 = Conv2D(128,kernel_size=(3,3),activation = 'relu', data_format='channels_last', padding = 'same',kernel_initializer = 'he_normal')(conv2)\n",
    "    #print('conv2_shape=',conv2.shape)\n",
    "    pool2 = MaxPooling2D(pool_size=(2,2), padding = 'same')(conv2)\n",
    "    #print('pool2_shape=',pool2.shape)\n",
    "    \n",
    "    conv3 = Conv2D(256,kernel_size=(3,3),activation = 'relu', data_format='channels_last', padding = 'same',kernel_initializer = 'he_normal')(pool2)\n",
    "    conv3 = Conv2D(256,kernel_size=(3,3),activation = 'relu', data_format='channels_last', padding = 'same',kernel_initializer = 'he_normal')(conv3)\n",
    "    #print('conv3_shape=',conv3.shape)\n",
    "    pool3 = MaxPooling2D(pool_size=(2,2), padding = 'same')(conv3)\n",
    "    #print('pool3_shape=',pool3.shape)\n",
    "    \n",
    "    conv4 = Conv2D(512,kernel_size=(3,3),activation = 'relu', data_format='channels_last', padding = 'same',kernel_initializer = 'he_normal')(pool3)\n",
    "    conv4 = Conv2D(512,kernel_size=(3,3),activation = 'relu', data_format='channels_last', padding = 'same',kernel_initializer = 'he_normal')(conv4)\n",
    "    drop4 = Dropout(0.5)(conv4)\n",
    "    #print('drop4_shape=',drop4.shape)\n",
    "    pool4 = MaxPooling2D(pool_size=(2,2), padding = 'same')(drop4)\n",
    "    #print('pool4_shape=',pool4.shape)\n",
    "    \n",
    "    conv5 = Conv2D(1024,kernel_size=(3,3),activation = 'relu', data_format='channels_last', padding = 'same',kernel_initializer = 'he_normal')(pool4)\n",
    "    conv5 = Conv2D(1024,kernel_size=(3,3),activation = 'relu', data_format='channels_last', padding = 'same',kernel_initializer = 'he_normal')(conv5)\n",
    "    #print('conv5_shape=',conv5.shape)\n",
    "    drop5 = Dropout(0.5)(conv5)\n",
    "    \n",
    "    up6 = Conv2D(512, 2, activation = 'relu', padding = 'valid', data_format='channels_last', kernel_initializer = 'he_normal')(UpSampling2D(size = (2,2))(drop5))\n",
    "    #print('up6_shape=',up6.shape)\n",
    "    merge6 = concatenate([drop4,up6], axis = 3)\n",
    "    #print('merge6_shape=',merge6.shape)\n",
    "    conv6 = Conv2D(512,kernel_size=(3,3),activation = 'relu', data_format='channels_last', padding = 'same',kernel_initializer = 'he_normal')(merge6)\n",
    "    conv6 = Conv2D(512,kernel_size=(3,3),activation = 'relu',data_format='channels_last',  padding = 'same',kernel_initializer = 'he_normal')(conv6)\n",
    "    #print('conv6_shape=',conv6.shape)\n",
    "    \n",
    "    up7 = Conv2D(256,2,activation = 'relu',padding = 'same',data_format='channels_last',  kernel_initializer = 'he_normal')(UpSampling2D(size = (2,2))(conv6))\n",
    "    #print('up7_shape=',up7.shape)\n",
    "    merge7 = concatenate([conv3,up7],axis=3)\n",
    "    #print('merge7_shape=',merge7.shape)\n",
    "    conv7 = Conv2D(256,kernel_size=(3,3),activation = 'relu', data_format='channels_last', padding = 'same',kernel_initializer = 'he_normal')(merge7)\n",
    "    conv7 = Conv2D(256,kernel_size=(3,3),activation = 'relu', data_format='channels_last', padding = 'same',kernel_initializer = 'he_normal')(conv7)\n",
    "    #print('conv7_shape=',conv7.shape)\n",
    "    \n",
    "    up8 = Conv2D(128,2,activation = 'relu',padding = 'valid', data_format='channels_last', kernel_initializer = 'he_normal')(UpSampling2D(size = (2,2))(conv7))\n",
    "    #print('up8_shape=',up8.shape)\n",
    "    merge8 = concatenate([conv2,up8],axis=3)\n",
    "    #print('merge8_shape=',merge8.shape)\n",
    "    conv8 = Conv2D(128,kernel_size=(3,3),activation = 'relu',data_format='channels_last',  padding = 'same',kernel_initializer = 'he_normal')(merge8)\n",
    "    conv8 = Conv2D(128,kernel_size=(3,3),activation = 'relu',data_format='channels_last',  padding = 'same',kernel_initializer = 'he_normal')(conv8)\n",
    "    #print('conv8_shape=',conv8.shape)\n",
    "    \n",
    "    up9 = Conv2D(64,2,activation = 'relu',padding = 'valid',data_format='channels_last',  kernel_initializer = 'he_normal')(UpSampling2D(size = (2,2))(conv8))\n",
    "    #print('up9_shape=',up9.shape)\n",
    "    merge9 = concatenate([conv1,up9],axis=3)\n",
    "    #print('merge9_shape=',merge9.shape)\n",
    "    conv9 = Conv2D(64,kernel_size=(3,3),activation = 'relu',data_format='channels_last',  padding = 'same',kernel_initializer = 'he_normal')(merge9)\n",
    "    conv9 = Conv2D(64,kernel_size=(3,3),activation = 'relu',data_format='channels_last',  padding = 'same',kernel_initializer = 'he_normal')(conv9)\n",
    "    #print('conv9_shape=',conv9.shape)\n",
    "    \n",
    "    conv10 = Conv2D(1,kernel_size=(1,1),data_format='channels_last', activation='sigmoid')(conv9)\n",
    "    #print('conv10_Shape=',conv10.shape)\n",
    "    \n",
    "    model = Model(input = inputs, output = [conv10])\n",
    "    model.compile(optimizer = Adam(lr=1e-4), loss = 'binary_crossentropy', metrics = ['accuracy'])\n",
    "    \n",
    "    return model\n",
    "model_unet = unet()"
   ]
  },
  {
   "cell_type": "code",
   "execution_count": 25,
   "metadata": {},
   "outputs": [
    {
     "name": "stdout",
     "output_type": "stream",
     "text": [
      "Train on 3000 samples, validate on 1000 samples\n",
      "Epoch 1/10\n",
      "3000/3000 [==============================] - 175s 58ms/step - loss: 0.4701 - acc: 0.7591 - val_loss: 0.4032 - val_acc: 0.7767\n",
      "Epoch 2/10\n",
      "3000/3000 [==============================] - 172s 57ms/step - loss: 0.3851 - acc: 0.8309 - val_loss: 0.2963 - val_acc: 0.8903\n",
      "Epoch 3/10\n",
      "3000/3000 [==============================] - 171s 57ms/step - loss: 0.3095 - acc: 0.8844 - val_loss: 0.2814 - val_acc: 0.8950\n",
      "Epoch 4/10\n",
      "3000/3000 [==============================] - 171s 57ms/step - loss: 0.2685 - acc: 0.8995 - val_loss: 0.3238 - val_acc: 0.8817\n",
      "Epoch 5/10\n",
      "3000/3000 [==============================] - 171s 57ms/step - loss: 0.2306 - acc: 0.9147 - val_loss: 0.2352 - val_acc: 0.9096\n",
      "Epoch 6/10\n",
      "3000/3000 [==============================] - 169s 56ms/step - loss: 0.2150 - acc: 0.9200 - val_loss: 0.1952 - val_acc: 0.9263\n",
      "Epoch 7/10\n",
      "3000/3000 [==============================] - 170s 57ms/step - loss: 0.2073 - acc: 0.9260 - val_loss: 0.2076 - val_acc: 0.9220\n",
      "Epoch 8/10\n",
      "3000/3000 [==============================] - 171s 57ms/step - loss: 0.1841 - acc: 0.9321 - val_loss: 0.1924 - val_acc: 0.9294\n",
      "Epoch 9/10\n",
      "3000/3000 [==============================] - 170s 57ms/step - loss: 0.1919 - acc: 0.9309 - val_loss: 0.1886 - val_acc: 0.9262\n",
      "Epoch 10/10\n",
      "3000/3000 [==============================] - 170s 57ms/step - loss: 0.1752 - acc: 0.9361 - val_loss: 0.1860 - val_acc: 0.9297\n"
     ]
    },
    {
     "ename": "ValueError",
     "evalue": "Illegal argument(s) to subplot: (2, 1)",
     "output_type": "error",
     "traceback": [
      "\u001b[1;31m---------------------------------------------------------------------------\u001b[0m",
      "\u001b[1;31mValueError\u001b[0m                                Traceback (most recent call last)",
      "\u001b[1;32m<ipython-input-25-9386ade41f21>\u001b[0m in \u001b[0;36m<module>\u001b[1;34m\u001b[0m\n\u001b[0;32m     13\u001b[0m \u001b[0munet_acc_val\u001b[0m \u001b[1;33m=\u001b[0m \u001b[0mhistory_unet\u001b[0m\u001b[1;33m.\u001b[0m\u001b[0mhistory\u001b[0m\u001b[1;33m[\u001b[0m\u001b[1;34m'val_acc'\u001b[0m\u001b[1;33m]\u001b[0m\u001b[1;33m\u001b[0m\u001b[1;33m\u001b[0m\u001b[0m\n\u001b[0;32m     14\u001b[0m \u001b[0munet_loss_val\u001b[0m \u001b[1;33m=\u001b[0m \u001b[0mhistory_unet\u001b[0m\u001b[1;33m.\u001b[0m\u001b[0mhistory\u001b[0m\u001b[1;33m[\u001b[0m\u001b[1;34m'val_loss'\u001b[0m\u001b[1;33m]\u001b[0m\u001b[1;33m\u001b[0m\u001b[1;33m\u001b[0m\u001b[0m\n\u001b[1;32m---> 15\u001b[1;33m \u001b[0mf\u001b[0m\u001b[1;33m,\u001b[0m\u001b[1;33m(\u001b[0m\u001b[0max1\u001b[0m\u001b[1;33m,\u001b[0m\u001b[0max2\u001b[0m\u001b[1;33m)\u001b[0m \u001b[1;33m=\u001b[0m \u001b[0mplt\u001b[0m\u001b[1;33m.\u001b[0m\u001b[0msubplot\u001b[0m\u001b[1;33m(\u001b[0m\u001b[1;36m2\u001b[0m\u001b[1;33m,\u001b[0m\u001b[1;36m1\u001b[0m\u001b[1;33m)\u001b[0m\u001b[1;33m\u001b[0m\u001b[1;33m\u001b[0m\u001b[0m\n\u001b[0m\u001b[0;32m     16\u001b[0m \u001b[0max1\u001b[0m\u001b[1;33m.\u001b[0m\u001b[0mplot\u001b[0m\u001b[1;33m(\u001b[0m\u001b[0mnp\u001b[0m\u001b[1;33m.\u001b[0m\u001b[0marange\u001b[0m\u001b[1;33m(\u001b[0m\u001b[1;36m1\u001b[0m\u001b[1;33m,\u001b[0m\u001b[1;36m11\u001b[0m\u001b[1;33m)\u001b[0m\u001b[1;33m,\u001b[0m\u001b[0munet_acc_train\u001b[0m\u001b[1;33m,\u001b[0m\u001b[1;34m'b-'\u001b[0m\u001b[1;33m)\u001b[0m\u001b[1;33m\u001b[0m\u001b[1;33m\u001b[0m\u001b[0m\n\u001b[0;32m     17\u001b[0m \u001b[0max1\u001b[0m\u001b[1;33m.\u001b[0m\u001b[0mplot\u001b[0m\u001b[1;33m(\u001b[0m\u001b[0mnp\u001b[0m\u001b[1;33m.\u001b[0m\u001b[0marange\u001b[0m\u001b[1;33m(\u001b[0m\u001b[1;36m1\u001b[0m\u001b[1;33m,\u001b[0m\u001b[1;36m11\u001b[0m\u001b[1;33m)\u001b[0m\u001b[1;33m,\u001b[0m\u001b[0munet_acc_val\u001b[0m\u001b[1;33m,\u001b[0m\u001b[1;34m'k-'\u001b[0m\u001b[1;33m)\u001b[0m\u001b[1;33m\u001b[0m\u001b[1;33m\u001b[0m\u001b[0m\n",
      "\u001b[1;32mc:\\users\\aisha.xu\\documents\\env\\lib\\site-packages\\matplotlib\\pyplot.py\u001b[0m in \u001b[0;36msubplot\u001b[1;34m(*args, **kwargs)\u001b[0m\n\u001b[0;32m   1074\u001b[0m \u001b[1;33m\u001b[0m\u001b[0m\n\u001b[0;32m   1075\u001b[0m     \u001b[0mfig\u001b[0m \u001b[1;33m=\u001b[0m \u001b[0mgcf\u001b[0m\u001b[1;33m(\u001b[0m\u001b[1;33m)\u001b[0m\u001b[1;33m\u001b[0m\u001b[1;33m\u001b[0m\u001b[0m\n\u001b[1;32m-> 1076\u001b[1;33m     \u001b[0ma\u001b[0m \u001b[1;33m=\u001b[0m \u001b[0mfig\u001b[0m\u001b[1;33m.\u001b[0m\u001b[0madd_subplot\u001b[0m\u001b[1;33m(\u001b[0m\u001b[1;33m*\u001b[0m\u001b[0margs\u001b[0m\u001b[1;33m,\u001b[0m \u001b[1;33m**\u001b[0m\u001b[0mkwargs\u001b[0m\u001b[1;33m)\u001b[0m\u001b[1;33m\u001b[0m\u001b[1;33m\u001b[0m\u001b[0m\n\u001b[0m\u001b[0;32m   1077\u001b[0m     \u001b[0mbbox\u001b[0m \u001b[1;33m=\u001b[0m \u001b[0ma\u001b[0m\u001b[1;33m.\u001b[0m\u001b[0mbbox\u001b[0m\u001b[1;33m\u001b[0m\u001b[1;33m\u001b[0m\u001b[0m\n\u001b[0;32m   1078\u001b[0m     \u001b[0mbyebye\u001b[0m \u001b[1;33m=\u001b[0m \u001b[1;33m[\u001b[0m\u001b[1;33m]\u001b[0m\u001b[1;33m\u001b[0m\u001b[1;33m\u001b[0m\u001b[0m\n",
      "\u001b[1;32mc:\\users\\aisha.xu\\documents\\env\\lib\\site-packages\\matplotlib\\figure.py\u001b[0m in \u001b[0;36madd_subplot\u001b[1;34m(self, *args, **kwargs)\u001b[0m\n\u001b[0;32m   1412\u001b[0m                     \u001b[0mself\u001b[0m\u001b[1;33m.\u001b[0m\u001b[0m_axstack\u001b[0m\u001b[1;33m.\u001b[0m\u001b[0mremove\u001b[0m\u001b[1;33m(\u001b[0m\u001b[0max\u001b[0m\u001b[1;33m)\u001b[0m\u001b[1;33m\u001b[0m\u001b[1;33m\u001b[0m\u001b[0m\n\u001b[0;32m   1413\u001b[0m \u001b[1;33m\u001b[0m\u001b[0m\n\u001b[1;32m-> 1414\u001b[1;33m             \u001b[0ma\u001b[0m \u001b[1;33m=\u001b[0m \u001b[0msubplot_class_factory\u001b[0m\u001b[1;33m(\u001b[0m\u001b[0mprojection_class\u001b[0m\u001b[1;33m)\u001b[0m\u001b[1;33m(\u001b[0m\u001b[0mself\u001b[0m\u001b[1;33m,\u001b[0m \u001b[1;33m*\u001b[0m\u001b[0margs\u001b[0m\u001b[1;33m,\u001b[0m \u001b[1;33m**\u001b[0m\u001b[0mkwargs\u001b[0m\u001b[1;33m)\u001b[0m\u001b[1;33m\u001b[0m\u001b[1;33m\u001b[0m\u001b[0m\n\u001b[0m\u001b[0;32m   1415\u001b[0m \u001b[1;33m\u001b[0m\u001b[0m\n\u001b[0;32m   1416\u001b[0m         \u001b[1;32mreturn\u001b[0m \u001b[0mself\u001b[0m\u001b[1;33m.\u001b[0m\u001b[0m_add_axes_internal\u001b[0m\u001b[1;33m(\u001b[0m\u001b[0mkey\u001b[0m\u001b[1;33m,\u001b[0m \u001b[0ma\u001b[0m\u001b[1;33m)\u001b[0m\u001b[1;33m\u001b[0m\u001b[1;33m\u001b[0m\u001b[0m\n",
      "\u001b[1;32mc:\\users\\aisha.xu\\documents\\env\\lib\\site-packages\\matplotlib\\axes\\_subplots.py\u001b[0m in \u001b[0;36m__init__\u001b[1;34m(self, fig, *args, **kwargs)\u001b[0m\n\u001b[0;32m     62\u001b[0m                 \u001b[1;31m# num - 1 for converting from MATLAB to python indexing\u001b[0m\u001b[1;33m\u001b[0m\u001b[1;33m\u001b[0m\u001b[1;33m\u001b[0m\u001b[0m\n\u001b[0;32m     63\u001b[0m         \u001b[1;32melse\u001b[0m\u001b[1;33m:\u001b[0m\u001b[1;33m\u001b[0m\u001b[1;33m\u001b[0m\u001b[0m\n\u001b[1;32m---> 64\u001b[1;33m             \u001b[1;32mraise\u001b[0m \u001b[0mValueError\u001b[0m\u001b[1;33m(\u001b[0m\u001b[1;34mf'Illegal argument(s) to subplot: {args}'\u001b[0m\u001b[1;33m)\u001b[0m\u001b[1;33m\u001b[0m\u001b[1;33m\u001b[0m\u001b[0m\n\u001b[0m\u001b[0;32m     65\u001b[0m \u001b[1;33m\u001b[0m\u001b[0m\n\u001b[0;32m     66\u001b[0m         \u001b[0mself\u001b[0m\u001b[1;33m.\u001b[0m\u001b[0mupdate_params\u001b[0m\u001b[1;33m(\u001b[0m\u001b[1;33m)\u001b[0m\u001b[1;33m\u001b[0m\u001b[1;33m\u001b[0m\u001b[0m\n",
      "\u001b[1;31mValueError\u001b[0m: Illegal argument(s) to subplot: (2, 1)"
     ]
    }
   ],
   "source": [
    "\n",
    "#train the model\n",
    "history_unet = model_unet.fit(x_train, y_train, batch_size=16, epochs=10, verbose=True,validation_data=(x_val, y_val))\n",
    "\n",
    "#save the model\n",
    "import pickle\n",
    "filename_unet = 'MODEL_UNET.SAV'\n",
    "pickle.dump(model_unet,open(filename_unet,'wb'))"
   ]
  },
  {
   "cell_type": "code",
   "execution_count": 45,
   "metadata": {},
   "outputs": [],
   "source": [
    "#save the history\n",
    "import json\n",
    "with open('history_unet_saved.json', 'w') as f:\n",
    "    json.dump(history_unet.history, f)"
   ]
  },
  {
   "cell_type": "code",
   "execution_count": 51,
   "metadata": {},
   "outputs": [
    {
     "name": "stdout",
     "output_type": "stream",
     "text": [
      "[0.7591099902788798, 0.830928634484609, 0.8844111351966858, 0.8994908353487651, 0.9146616660753886, 0.9200408784548442, 0.9259829754829407, 0.9321224071184794, 0.9308818402290344, 0.9360859376589458]\n"
     ]
    }
   ],
   "source": [
    "#load the history\n",
    "with open('history_unet_saved.json') as json_file:\n",
    "    saved_history = json.load(json_file)"
   ]
  },
  {
   "cell_type": "code",
   "execution_count": 26,
   "metadata": {},
   "outputs": [
    {
     "name": "stdout",
     "output_type": "stream",
     "text": [
      "__________________________________________________________________________________________________\n",
      "Layer (type)                    Output Shape         Param #     Connected to                     \n",
      "==================================================================================================\n",
      "input_1 (InputLayer)            (None, 101, 101, 1)  0                                            \n",
      "__________________________________________________________________________________________________\n",
      "conv2d_1 (Conv2D)               (None, 101, 101, 64) 640         input_1[0][0]                    \n",
      "__________________________________________________________________________________________________\n",
      "conv2d_2 (Conv2D)               (None, 101, 101, 64) 36928       conv2d_1[0][0]                   \n",
      "__________________________________________________________________________________________________\n",
      "max_pooling2d_1 (MaxPooling2D)  (None, 51, 51, 64)   0           conv2d_2[0][0]                   \n",
      "__________________________________________________________________________________________________\n",
      "conv2d_3 (Conv2D)               (None, 51, 51, 128)  73856       max_pooling2d_1[0][0]            \n",
      "__________________________________________________________________________________________________\n",
      "conv2d_4 (Conv2D)               (None, 51, 51, 128)  147584      conv2d_3[0][0]                   \n",
      "__________________________________________________________________________________________________\n",
      "max_pooling2d_2 (MaxPooling2D)  (None, 26, 26, 128)  0           conv2d_4[0][0]                   \n",
      "__________________________________________________________________________________________________\n",
      "conv2d_5 (Conv2D)               (None, 26, 26, 256)  295168      max_pooling2d_2[0][0]            \n",
      "__________________________________________________________________________________________________\n",
      "conv2d_6 (Conv2D)               (None, 26, 26, 256)  590080      conv2d_5[0][0]                   \n",
      "__________________________________________________________________________________________________\n",
      "max_pooling2d_3 (MaxPooling2D)  (None, 13, 13, 256)  0           conv2d_6[0][0]                   \n",
      "__________________________________________________________________________________________________\n",
      "conv2d_7 (Conv2D)               (None, 13, 13, 512)  1180160     max_pooling2d_3[0][0]            \n",
      "__________________________________________________________________________________________________\n",
      "conv2d_8 (Conv2D)               (None, 13, 13, 512)  2359808     conv2d_7[0][0]                   \n",
      "__________________________________________________________________________________________________\n",
      "dropout_1 (Dropout)             (None, 13, 13, 512)  0           conv2d_8[0][0]                   \n",
      "__________________________________________________________________________________________________\n",
      "max_pooling2d_4 (MaxPooling2D)  (None, 7, 7, 512)    0           dropout_1[0][0]                  \n",
      "__________________________________________________________________________________________________\n",
      "conv2d_9 (Conv2D)               (None, 7, 7, 1024)   4719616     max_pooling2d_4[0][0]            \n",
      "__________________________________________________________________________________________________\n",
      "conv2d_10 (Conv2D)              (None, 7, 7, 1024)   9438208     conv2d_9[0][0]                   \n",
      "__________________________________________________________________________________________________\n",
      "dropout_2 (Dropout)             (None, 7, 7, 1024)   0           conv2d_10[0][0]                  \n",
      "__________________________________________________________________________________________________\n",
      "up_sampling2d_1 (UpSampling2D)  (None, 14, 14, 1024) 0           dropout_2[0][0]                  \n",
      "__________________________________________________________________________________________________\n",
      "conv2d_11 (Conv2D)              (None, 13, 13, 512)  2097664     up_sampling2d_1[0][0]            \n",
      "__________________________________________________________________________________________________\n",
      "concatenate_1 (Concatenate)     (None, 13, 13, 1024) 0           dropout_1[0][0]                  \n",
      "                                                                 conv2d_11[0][0]                  \n",
      "__________________________________________________________________________________________________\n",
      "conv2d_12 (Conv2D)              (None, 13, 13, 512)  4719104     concatenate_1[0][0]              \n",
      "__________________________________________________________________________________________________\n",
      "conv2d_13 (Conv2D)              (None, 13, 13, 512)  2359808     conv2d_12[0][0]                  \n",
      "__________________________________________________________________________________________________\n",
      "up_sampling2d_2 (UpSampling2D)  (None, 26, 26, 512)  0           conv2d_13[0][0]                  \n",
      "__________________________________________________________________________________________________\n",
      "conv2d_14 (Conv2D)              (None, 26, 26, 256)  524544      up_sampling2d_2[0][0]            \n",
      "__________________________________________________________________________________________________\n",
      "concatenate_2 (Concatenate)     (None, 26, 26, 512)  0           conv2d_6[0][0]                   \n",
      "                                                                 conv2d_14[0][0]                  \n",
      "__________________________________________________________________________________________________\n",
      "conv2d_15 (Conv2D)              (None, 26, 26, 256)  1179904     concatenate_2[0][0]              \n",
      "__________________________________________________________________________________________________\n",
      "conv2d_16 (Conv2D)              (None, 26, 26, 256)  590080      conv2d_15[0][0]                  \n",
      "__________________________________________________________________________________________________\n",
      "up_sampling2d_3 (UpSampling2D)  (None, 52, 52, 256)  0           conv2d_16[0][0]                  \n",
      "__________________________________________________________________________________________________\n",
      "conv2d_17 (Conv2D)              (None, 51, 51, 128)  131200      up_sampling2d_3[0][0]            \n",
      "__________________________________________________________________________________________________\n",
      "concatenate_3 (Concatenate)     (None, 51, 51, 256)  0           conv2d_4[0][0]                   \n",
      "                                                                 conv2d_17[0][0]                  \n",
      "__________________________________________________________________________________________________\n",
      "conv2d_18 (Conv2D)              (None, 51, 51, 128)  295040      concatenate_3[0][0]              \n",
      "__________________________________________________________________________________________________\n",
      "conv2d_19 (Conv2D)              (None, 51, 51, 128)  147584      conv2d_18[0][0]                  \n",
      "__________________________________________________________________________________________________\n",
      "up_sampling2d_4 (UpSampling2D)  (None, 102, 102, 128 0           conv2d_19[0][0]                  \n",
      "__________________________________________________________________________________________________\n",
      "conv2d_20 (Conv2D)              (None, 101, 101, 64) 32832       up_sampling2d_4[0][0]            \n",
      "__________________________________________________________________________________________________\n",
      "concatenate_4 (Concatenate)     (None, 101, 101, 128 0           conv2d_2[0][0]                   \n",
      "                                                                 conv2d_20[0][0]                  \n",
      "__________________________________________________________________________________________________\n",
      "conv2d_21 (Conv2D)              (None, 101, 101, 64) 73792       concatenate_4[0][0]              \n",
      "__________________________________________________________________________________________________\n",
      "conv2d_22 (Conv2D)              (None, 101, 101, 64) 36928       conv2d_21[0][0]                  \n",
      "__________________________________________________________________________________________________\n",
      "conv2d_23 (Conv2D)              (None, 101, 101, 1)  65          conv2d_22[0][0]                  \n",
      "==================================================================================================\n",
      "Total params: 31,030,593\n",
      "Trainable params: 31,030,593\n",
      "Non-trainable params: 0\n",
      "__________________________________________________________________________________________________\n"
     ]
    }
   ],
   "source": [
    "#load the previously saved model and its summary\n",
    "loaded_unetmodel = pickle.load(open(filename_unet,'rb'))\n",
    "loaded_unetmodel.summary()"
   ]
  },
  {
   "cell_type": "code",
   "execution_count": 59,
   "metadata": {},
   "outputs": [
    {
     "data": {
      "image/png": "[encoded data removed]",
      "text/plain": [
       "<Figure size 432x288 with 1 Axes>"
      ]
     },
     "metadata": {
      "needs_background": "light"
     },
     "output_type": "display_data"
    },
    {
     "data": {
      "image/png": "[encoded data removed]",
      "text/plain": [
       "<Figure size 432x288 with 1 Axes>"
      ]
     },
     "metadata": {
      "needs_background": "light"
     },
     "output_type": "display_data"
    }
   ],
   "source": [
    "import matplotlib.pyplot as plt\n",
    "unet_acc_train = saved_history['acc']\n",
    "unet_loss_train = saved_history['loss']\n",
    "unet_acc_val = saved_history['val_acc']\n",
    "unet_loss_val = saved_history['val_loss']\n",
    "\n",
    "plt.figure(0)\n",
    "plt.plot(np.arange(1,11),unet_acc_train,'b-')\n",
    "plt.plot(np.arange(1,11),unet_acc_val,'k-')\n",
    "plt.xlabel('Epochs')\n",
    "plt.ylabel('Accuracy')\n",
    "plt.legend(['train','validation'])\n",
    "\n",
    "plt.figure(1)\n",
    "plt.plot(np.arange(1,11),unet_loss_train,'b-')\n",
    "plt.plot(np.arange(1,11),unet_loss_val,'k-')\n",
    "plt.xlabel('Epochs')\n",
    "plt.ylabel('loss')\n",
    "plt.legend(['train','validation'])\n",
    "\n",
    "plt.show()"
   ]
  },
  {
   "cell_type": "code",
   "execution_count": 92,
   "metadata": {},
   "outputs": [
    {
     "name": "stdout",
     "output_type": "stream",
     "text": [
      "C:/Users/aisha.xu/Downloads/tgs-salt-identification-challenge/train/images/0108518d1e.png\n"
     ]
    },
    {
     "data": {
      "image/png": "[encoded data removed]",
      "text/plain": [
       "<Figure size 432x288 with 1 Axes>"
      ]
     },
     "metadata": {
      "needs_background": "light"
     },
     "output_type": "display_data"
    },
    {
     "name": "stdout",
     "output_type": "stream",
     "text": [
      "prediction\n"
     ]
    },
    {
     "data": {
      "image/png": "[encoded data removed]",
      "text/plain": [
       "<Figure size 432x288 with 1 Axes>"
      ]
     },
     "metadata": {
      "needs_background": "light"
     },
     "output_type": "display_data"
    },
    {
     "name": "stdout",
     "output_type": "stream",
     "text": [
      "ground_truth\n"
     ]
    }
   ],
   "source": [
    "from random import randrange\n",
    "a=(randrange(3000))\n",
    "\n",
    "img_testtrain = Image.open(x_train_name[a])\n",
    "img_array=np.array(img_testtrain)\n",
    "\n",
    "test_mask = loaded_unetmodel.predict(x_data[a].reshape(1,101,101,1))\n",
    "test_mask = test_mask.reshape(101,101)\n",
    "print(x_train_name[10])\n",
    "\n",
    "\n",
    "#print(img_array)\n",
    "#print('\\n','\\n')\n",
    "for i in range(101):\n",
    "    for j in range(101):\n",
    "        if test_mask[i][j] >0.9:\n",
    "            img_array[i][j][0] += 80\n",
    "            if img_array[i][j][0] >255:\n",
    "                img_array[i][j][0] =255\n",
    "\n",
    "#print(img_array)\n",
    "#img_gray_testtrain = img_testtrain.convert('L')\n",
    "#print(np.array(img_gray_testtrain))\n",
    "#arr_testtrain = np.array(img_gray_testtrain)\n",
    "#arr_reshape_testtrain = arr_testtrain.reshape(101,101,1)\n",
    "\n",
    "print('prediction')\n",
    "plt.figure(0)\n",
    "plt.imshow(img_array)\n",
    "plt.axis('off')\n",
    "plt.show()\n",
    "\n",
    "\n",
    "#loaded_unetmodel.predict()\n",
    "\n",
    "img_array=np.array(img_testtrain)\n",
    "\n",
    "real_mask = Image.open(y_train_name[a])\n",
    "real_mask = real_mask.convert('L')\n",
    "real_mask_array = np.array(real_mask)\n",
    "real_mask_array[real_mask_array > 0]=1\n",
    "\n",
    "for i in range(101):\n",
    "    for j in range(101):\n",
    "        if real_mask_array[i][j] >0.9:\n",
    "            img_array[i][j][0] += 80\n",
    "            if img_array[i][j][0] >255:\n",
    "                img_array[i][j][0] =255\n",
    "\n",
    "print('ground_truth')\n",
    "plt.figure(1)\n",
    "plt.imshow(img_array)\n",
    "plt.axis('off')\n",
    "plt.show()\n",
    "\n"
   ]
  },
  {
   "cell_type": "code",
   "execution_count": 78,
   "metadata": {},
   "outputs": [
    {
     "name": "stdout",
     "output_type": "stream",
     "text": [
      "[[9.0256411e-01 9.6500999e-01 9.8464727e-01 ... 6.0278177e-04\n",
      "  2.8775036e-03 1.4614314e-02]\n",
      " [9.7050947e-01 9.8620754e-01 9.9394202e-01 ... 2.2283196e-04\n",
      "  5.5119395e-04 1.6930103e-03]\n",
      " [9.9077499e-01 9.9625236e-01 9.9770296e-01 ... 1.3676286e-04\n",
      "  2.8797984e-04 6.6992640e-04]\n",
      " ...\n",
      " [9.9997342e-01 9.9999839e-01 9.9999958e-01 ... 9.8695034e-01\n",
      "  9.7939467e-01 9.5419669e-01]\n",
      " [9.9988770e-01 9.9999434e-01 9.9999899e-01 ... 9.8562503e-01\n",
      "  9.7312891e-01 9.3145359e-01]\n",
      " [9.9910390e-01 9.9991786e-01 9.9998772e-01 ... 9.7367889e-01\n",
      "  9.4965523e-01 8.4261662e-01]]\n",
      "[[1 1 1 ... 0 0 0]\n",
      " [1 1 1 ... 0 0 0]\n",
      " [1 1 1 ... 0 0 0]\n",
      " ...\n",
      " [1 1 1 ... 1 1 1]\n",
      " [1 1 1 ... 1 1 1]\n",
      " [1 1 1 ... 1 1 1]]\n"
     ]
    }
   ],
   "source": [
    "img_testtrain = Image.open('C:/Users/aisha.xu/Downloads/tgs-salt-identification-challenge/train/images/0108518d1e.png)\n",
    "test_mask = loaded_unetmodel.predict(x_data[10].reshape(1,101,101,1))\n",
    "print(test_mask.reshape(101,101))\n",
    "print(y_data[10].reshape(101,101))"
   ]
  }
 ],
 "metadata": {
  "kernelspec": {
   "display_name": "Python 3",
   "language": "python",
   "name": "python3"
  },
  "language_info": {
   "codemirror_mode": {
    "name": "ipython",
    "version": 3
   },
   "file_extension": ".py",
   "mimetype": "text/x-python",
   "name": "python",
   "nbconvert_exporter": "python",
   "pygments_lexer": "ipython3",
   "version": "3.6.8"
  }
 },
 "nbformat": 4,
 "nbformat_minor": 2
}
