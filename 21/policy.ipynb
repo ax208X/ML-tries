{
 "cells": [
  {
   "cell_type": "code",
   "execution_count": null,
   "metadata": {},
   "outputs": [],
   "source": [
    "class policies:\n",
    "    def __init__(self,Q):\n",
    "        self.action = [0,1]\n",
    "        self.Q = Q\n",
    "        \n",
    "    \n",
    "    def random_policy(self,state):\n",
    "        return random.choice(self.action)\n",
    "    \n",
    "    def hit(self,state):\n",
    "        return 1\n",
    "    \n",
    "    def stick(self, state):\n",
    "        return 0\n",
    "    \n",
    "    def max_q_action(self,state):\n",
    "        Q = self.Q\n",
    "        if str(state) in Q.keys():\n",
    "            stick = Q[str(state)]['0']\n",
    "            hit = Q[str(state)]['1']\n",
    "            if stick > hit:\n",
    "                policy = self.stick\n",
    "            elif stick < hit:\n",
    "                policy = self.hit\n",
    "            elif stick == hit:\n",
    "                policy = self.random_policy\n",
    "        else:\n",
    "            policy = self.random_policy\n",
    "                \n",
    "        return policy"
   ]
  }
 ],
 "metadata": {
  "kernelspec": {
   "display_name": "Python 3",
   "language": "python",
   "name": "python3"
  },
  "language_info": {
   "codemirror_mode": {
    "name": "ipython",
    "version": 3
   },
   "file_extension": ".py",
   "mimetype": "text/x-python",
   "name": "python",
   "nbconvert_exporter": "python",
   "pygments_lexer": "ipython3",
   "version": "3.6.8"
  }
 },
 "nbformat": 4,
 "nbformat_minor": 2
}
